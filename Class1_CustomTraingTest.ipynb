{
 "cells": [
  {
   "cell_type": "code",
   "execution_count": 1,
   "metadata": {
    "collapsed": false
   },
   "outputs": [
    {
     "name": "stderr",
     "output_type": "stream",
     "text": [
      "Using TensorFlow backend.\n",
      "/home/qiuxing/.local/lib/python2.7/site-packages/sklearn/cross_validation.py:44: DeprecationWarning: This module was deprecated in version 0.18 in favor of the model_selection module into which all the refactored classes and functions are moved. Also note that the interface of the new CV iterators are different from that of this module. This module will be removed in 0.20.\n",
      "  \"This module will be removed in 0.20.\", DeprecationWarning)\n"
     ]
    }
   ],
   "source": [
    "import mhcflurry\n",
    "import numpy\n",
    "import logging\n",
    "import seaborn\n",
    "import time\n",
    "from matplotlib import pyplot\n",
    "\n",
    "% matplotlib inline\n",
    "logging.basicConfig(level=\"DEBUG\")"
   ]
  },
  {
   "cell_type": "markdown",
   "metadata": {},
   "source": [
    "# Predict Using Existing Model"
   ]
  },
  {
   "cell_type": "code",
   "execution_count": 25,
   "metadata": {
    "collapsed": false
   },
   "outputs": [
    {
     "name": "stdout",
     "output_type": "stream",
     "text": [
      "CPU times: user 0 ns, sys: 196 ms, total: 196 ms\n",
      "Wall time: 2.8 s\n"
     ]
    },
    {
     "data": {
      "text/html": [
       "<div>\n",
       "<table border=\"1\" class=\"dataframe\">\n",
       "  <thead>\n",
       "    <tr style=\"text-align: right;\">\n",
       "      <th></th>\n",
       "      <th>Allele</th>\n",
       "      <th>Peptide</th>\n",
       "      <th>Prediction</th>\n",
       "    </tr>\n",
       "  </thead>\n",
       "  <tbody>\n",
       "    <tr>\n",
       "      <th>0</th>\n",
       "      <td>HLA-A0201</td>\n",
       "      <td>SIINFEKL</td>\n",
       "      <td>10672.347656</td>\n",
       "    </tr>\n",
       "    <tr>\n",
       "      <th>1</th>\n",
       "      <td>HLA-A0201</td>\n",
       "      <td>SIINFEQL</td>\n",
       "      <td>7828.974121</td>\n",
       "    </tr>\n",
       "  </tbody>\n",
       "</table>\n",
       "</div>"
      ],
      "text/plain": [
       "      Allele   Peptide    Prediction\n",
       "0  HLA-A0201  SIINFEKL  10672.347656\n",
       "1  HLA-A0201  SIINFEQL   7828.974121"
      ]
     },
     "execution_count": 25,
     "metadata": {},
     "output_type": "execute_result"
    }
   ],
   "source": [
    "### Try an unsupported allele ###\n",
    "%time mhcflurry.predict(alleles=[\"HLA-A0201\"], peptides=[\"SIINFEKL\",\"SIINFEQL\"])"
   ]
  },
  {
   "cell_type": "code",
   "execution_count": 23,
   "metadata": {
    "collapsed": false
   },
   "outputs": [
    {
     "name": "stdout",
     "output_type": "stream",
     "text": [
      "      Allele   Peptide    Prediction\n",
      "0  HLA-A0201  SIINFEKL  10672.347656\n",
      "1  HLA-A0201  SIINFEQL   7828.974121\n"
     ]
    }
   ],
   "source": [
    "### a unit to catch unsupported allele error ###\n",
    "import sys\n",
    "try:\n",
    "    print(mhcflurry.predict(alleles=[\"HLA-A0201\"], peptides=[\"SIINFEKL\",\"SIINFEQL\"]))\n",
    "except:\n",
    "    print(\"Unexpected error:\", sys.exc_info()[0])"
   ]
  },
  {
   "cell_type": "markdown",
   "metadata": {},
   "source": [
    "# Load Customized Training Set and Model"
   ]
  },
  {
   "cell_type": "code",
   "execution_count": 2,
   "metadata": {
    "collapsed": true
   },
   "outputs": [],
   "source": [
    "kim2014_train = mhcflurry.dataset.Dataset.from_csv(mhcflurry.downloads.get_path(\"data_kim2014\", \"bdata.2009.mhci.public.1.txt\"))"
   ]
  },
  {
   "cell_type": "code",
   "execution_count": 9,
   "metadata": {
    "collapsed": false
   },
   "outputs": [
    {
     "data": {
      "text/plain": [
       "array(['ELA-A1', 'ELA-A1', 'ELA-A1', ..., 'Patr-B2401', 'Patr-B2401',\n",
       "       'Patr-B2401'], dtype=object)"
      ]
     },
     "execution_count": 9,
     "metadata": {},
     "output_type": "execute_result"
    }
   ],
   "source": [
    "kim2014_train.alleles"
   ]
  },
  {
   "cell_type": "code",
   "execution_count": 10,
   "metadata": {
    "collapsed": false
   },
   "outputs": [
    {
     "data": {
      "text/plain": [
       "1251"
      ]
     },
     "execution_count": 10,
     "metadata": {},
     "output_type": "execute_result"
    }
   ],
   "source": [
    "dfrmli_A0201_test = mhcflurry.dataset.Dataset.from_csv(\"testset/HLA-A0201\")\n",
    "len(dfrmli_A0201_test)"
   ]
  },
  {
   "cell_type": "code",
   "execution_count": 13,
   "metadata": {
    "collapsed": false
   },
   "outputs": [
    {
     "data": {
      "text/plain": [
       "array(['-', '-', '-', ..., '+', '+', '+'], dtype=object)"
      ]
     },
     "execution_count": 13,
     "metadata": {},
     "output_type": "execute_result"
    }
   ],
   "source": [
    "dfrmli_A0201_test.affinities"
   ]
  },
  {
   "cell_type": "code",
   "execution_count": 3,
   "metadata": {
    "collapsed": false
   },
   "outputs": [
    {
     "data": {
      "text/plain": [
       "Dataset(n=9565, alleles=['HLA-A0201'])"
      ]
     },
     "execution_count": 3,
     "metadata": {},
     "output_type": "execute_result"
    }
   ],
   "source": [
    "A0201_trainingset = kim2014_train.get_allele(\"HLA-A0201\")\n",
    "A0201_trainingset"
   ]
  },
  {
   "cell_type": "code",
   "execution_count": 16,
   "metadata": {
    "collapsed": false
   },
   "outputs": [
    {
     "data": {
      "text/plain": [
       "{'activation': 'tanh',\n",
       " 'batch_normalization': True,\n",
       " 'batch_size': 128,\n",
       " 'dropout_probability': 0.0,\n",
       " 'embedding_output_dim': 32,\n",
       " 'fraction_negative': 0.0,\n",
       " 'init': 'glorot_uniform',\n",
       " 'kmer_size': 9,\n",
       " 'layer_sizes': [64],\n",
       " 'loss': 'mse',\n",
       " 'max_ic50': 50000.0,\n",
       " 'n_training_epochs': 250,\n",
       " 'optimizer': 'rmsprop',\n",
       " 'output_activation': 'sigmoid',\n",
       " 'pretrain_decay': 'numpy.exp(-epoch)'}"
      ]
     },
     "execution_count": 16,
     "metadata": {},
     "output_type": "execute_result"
    }
   ],
   "source": [
    "prediction_model = mhcflurry.class1_allele_specific.Class1BindingPredictor()\n",
    "prediction_model.hyperparameters"
   ]
  },
  {
   "cell_type": "code",
   "execution_count": 18,
   "metadata": {
    "collapsed": false
   },
   "outputs": [
    {
     "data": {
      "text/plain": [
       "array([  84.33081818,  197.01031494,  172.89077759, ...,   93.08477783,\n",
       "        135.23834229,  429.84768677], dtype=float32)"
      ]
     },
     "execution_count": 18,
     "metadata": {},
     "output_type": "execute_result"
    }
   ],
   "source": [
    "predictions = prediction_model.predict(dfrmli_A0201_test.peptides)\n",
    "predictions"
   ]
  },
  {
   "cell_type": "markdown",
   "metadata": {},
   "source": [
    "# Evalute Prediction Accuracy"
   ]
  },
  {
   "cell_type": "code",
   "execution_count": 20,
   "metadata": {
    "collapsed": false
   },
   "outputs": [
    {
     "name": "stderr",
     "output_type": "stream",
     "text": [
      "/home/qiuxing/.local/lib/python2.7/site-packages/sklearn/metrics/classification.py:1115: UndefinedMetricWarning: F-score is ill-defined and being set to 0.0 due to no true samples.\n",
      "  'recall', 'true', average, warn_for)\n",
      "/home/qiuxing/.local/lib/python2.7/site-packages/scipy/stats/stats.py:250: RuntimeWarning: The input array could not be properly checked for nan values. nan values will be ignored.\n",
      "  \"values. nan values will be ignored.\", RuntimeWarning)\n"
     ]
    },
    {
     "data": {
      "text/plain": [
       "{'auc': nan, 'f1': 0.0, 'tau': 0.073076446246030796}"
      ]
     },
     "execution_count": 20,
     "metadata": {},
     "output_type": "execute_result"
    }
   ],
   "source": [
    "mhcflurry.class1_allele_specific.scoring.make_scores(dfrmli_A0201_test.affinities, predictions)"
   ]
  },
  {
   "cell_type": "code",
   "execution_count": 21,
   "metadata": {
    "collapsed": false
   },
   "outputs": [
    {
     "data": {
      "text/plain": [
       "2126"
      ]
     },
     "execution_count": 21,
     "metadata": {},
     "output_type": "execute_result"
    }
   ],
   "source": [
    "kim2014_test = mhcflurry.dataset.Dataset.from_csv(\n",
    "    mhcflurry.downloads.get_path(\"data_kim2014\", \"bdata.2013.mhci.public.blind.1.txt\"))\n",
    "test_set = kim2014_test.get_allele(\"HLA-A0201\")\n",
    "len(test_set)"
   ]
  },
  {
   "cell_type": "code",
   "execution_count": 22,
   "metadata": {
    "collapsed": false
   },
   "outputs": [
    {
     "data": {
      "text/plain": [
       "array([  6.94444444e+04,   6.61261200e+00,   7.22181500e+00, ...,\n",
       "         7.81250000e+04,   1.12300000e+03,   1.30000000e+02])"
      ]
     },
     "execution_count": 22,
     "metadata": {},
     "output_type": "execute_result"
    }
   ],
   "source": [
    "test_set.affinities"
   ]
  },
  {
   "cell_type": "code",
   "execution_count": 23,
   "metadata": {
    "collapsed": false
   },
   "outputs": [
    {
     "data": {
      "text/plain": [
       "array([ 422.26077271,   91.14395142,  119.12548065, ...,  226.68408203,\n",
       "        131.43814087,  140.93244934], dtype=float32)"
      ]
     },
     "execution_count": 23,
     "metadata": {},
     "output_type": "execute_result"
    }
   ],
   "source": [
    "predictions_new = prediction_model.predict(test_set.peptides)\n",
    "predictions_new"
   ]
  },
  {
   "cell_type": "code",
   "execution_count": 25,
   "metadata": {
    "collapsed": false
   },
   "outputs": [
    {
     "data": {
      "text/plain": [
       "{'auc': 0.57255260326485824,\n",
       " 'f1': 0.70411233701103315,\n",
       " 'tau': 0.087641280225993323}"
      ]
     },
     "execution_count": 25,
     "metadata": {},
     "output_type": "execute_result"
    }
   ],
   "source": [
    "mhcflurry.class1_allele_specific.scoring.make_scores(test_set.affinities, predictions_new)"
   ]
  },
  {
   "cell_type": "markdown",
   "metadata": {},
   "source": [
    "# Custom Cross-Validation Methods and Model Parameters"
   ]
  },
  {
   "cell_type": "code",
   "execution_count": 27,
   "metadata": {
    "collapsed": false
   },
   "outputs": [
    {
     "name": "stdout",
     "output_type": "stream",
     "text": [
      "Help on function cross_validation_folds in module mhcflurry.class1_allele_specific.cross_validation:\n",
      "\n",
      "cross_validation_folds(train_data, alleles=None, n_folds=3, drop_similar_peptides=False, imputer=None, impute_kwargs={'min_observations_per_allele': 2, 'min_observations_per_peptide': 2}, parallel_backend=None)\n",
      "    Split a Dataset into n_folds cross validation folds for each allele,\n",
      "    optionally performing imputation.\n",
      "    \n",
      "    Parameters\n",
      "    -----------\n",
      "    train_data : mhcflurry.Dataset\n",
      "    \n",
      "    alleles : string list, optional\n",
      "        Alleles to run cross validation on. Default: all alleles in\n",
      "        train_data.\n",
      "    \n",
      "    n_folds : int, optional\n",
      "        Number of cross validation folds for each allele.\n",
      "    \n",
      "    drop_similar_peptides : boolean, optional\n",
      "        For each fold, remove peptides from the test data that are similar\n",
      "        to peptides in the train data. Similarity is defined as in the\n",
      "        similar_peptides function.\n",
      "    \n",
      "    imputer : fancyimpute.Solver, optional\n",
      "        Imputer to use. If not specified, no imputation is done.\n",
      "    \n",
      "    impute_kwargs : dict, optional\n",
      "        Additional kwargs to pass to mhcflurry.Dataset.impute_missing_values.\n",
      "    \n",
      "    parallel_backend : mhcflurry.parallelism.ParallelBackend, optional\n",
      "        Futures implementation to use for running on multiple threads,\n",
      "        processes, or nodes\n",
      "    \n",
      "    Returns\n",
      "    -----------\n",
      "    list of AlleleSpecificTrainTestFold of length num alleles * n_folds\n",
      "\n"
     ]
    }
   ],
   "source": [
    "help(mhcflurry.class1_allele_specific.cross_validation.cross_validation_folds)"
   ]
  },
  {
   "cell_type": "code",
   "execution_count": 4,
   "metadata": {
    "collapsed": true
   },
   "outputs": [],
   "source": [
    "fold1 = mhcflurry.class1_allele_specific.cross_validation.cross_validation_folds(A0201_trainingset,n_folds=3)\n",
    "fold2 = mhcflurry.class1_allele_specific.cross_validation.cross_validation_folds(A0201_trainingset,n_folds=5)"
   ]
  },
  {
   "cell_type": "code",
   "execution_count": 24,
   "metadata": {
    "collapsed": false
   },
   "outputs": [
    {
     "data": {
      "text/plain": [
       "[AlleleSpecificTrainTestFold(allele='HLA-A0201', train=Dataset(n=6376, alleles=['HLA-A0201']), imputed_train=None, test=Dataset(n=3189, alleles=['HLA-A0201'])),\n",
       " AlleleSpecificTrainTestFold(allele='HLA-A0201', train=Dataset(n=6377, alleles=['HLA-A0201']), imputed_train=None, test=Dataset(n=3188, alleles=['HLA-A0201'])),\n",
       " AlleleSpecificTrainTestFold(allele='HLA-A0201', train=Dataset(n=6377, alleles=['HLA-A0201']), imputed_train=None, test=Dataset(n=3188, alleles=['HLA-A0201']))]"
      ]
     },
     "execution_count": 24,
     "metadata": {},
     "output_type": "execute_result"
    }
   ],
   "source": [
    "fold1"
   ]
  },
  {
   "cell_type": "code",
   "execution_count": 6,
   "metadata": {
    "collapsed": false
   },
   "outputs": [
    {
     "data": {
      "text/plain": [
       "{'activation': 'tanh',\n",
       " 'batch_normalization': True,\n",
       " 'batch_size': 128,\n",
       " 'dropout_probability': 0.0,\n",
       " 'embedding_output_dim': 32,\n",
       " 'fraction_negative': 0.1,\n",
       " 'impute': True,\n",
       " 'init': 'glorot_uniform',\n",
       " 'kmer_size': 9,\n",
       " 'layer_sizes': 12,\n",
       " 'loss': 'mse',\n",
       " 'max_ic50': 50000.0,\n",
       " 'n_training_epochs': 250,\n",
       " 'optimizer': 'rmsprop',\n",
       " 'output_activation': 'sigmoid',\n",
       " 'pretrain_decay': 'numpy.exp(-epoch)'}"
      ]
     },
     "execution_count": 6,
     "metadata": {},
     "output_type": "execute_result"
    }
   ],
   "source": [
    "models = mhcflurry.class1_allele_specific.train.HYPERPARAMETER_DEFAULTS.models_grid(\n",
    "    fraction_negative=[.1],\n",
    "    layer_sizes=[12],\n",
    "    impute=[False,True])\n",
    "models[0]\n",
    "models[1]"
   ]
  },
  {
   "cell_type": "code",
   "execution_count": 7,
   "metadata": {
    "collapsed": false
   },
   "outputs": [
    {
     "ename": "TypeError",
     "evalue": "'int' object is not iterable",
     "output_type": "error",
     "traceback": [
      "\u001b[0;31m---------------------------------------------------------------------------\u001b[0m",
      "\u001b[0;31mTypeError\u001b[0m                                 Traceback (most recent call last)",
      "\u001b[0;32m<ipython-input-7-be34dbaee9aa>\u001b[0m in \u001b[0;36m<module>\u001b[0;34m()\u001b[0m\n\u001b[0;32m----> 1\u001b[0;31m \u001b[0mdf\u001b[0m \u001b[0;34m=\u001b[0m \u001b[0mmhcflurry\u001b[0m\u001b[0;34m.\u001b[0m\u001b[0mclass1_allele_specific\u001b[0m\u001b[0;34m.\u001b[0m\u001b[0mtrain\u001b[0m\u001b[0;34m.\u001b[0m\u001b[0mtrain_across_models_and_folds\u001b[0m\u001b[0;34m(\u001b[0m\u001b[0mfold1\u001b[0m\u001b[0;34m,\u001b[0m \u001b[0mmodels\u001b[0m\u001b[0;34m,\u001b[0m \u001b[0mreturn_predictors\u001b[0m\u001b[0;34m=\u001b[0m\u001b[0mTrue\u001b[0m\u001b[0;34m)\u001b[0m\u001b[0;34m\u001b[0m\u001b[0m\n\u001b[0m",
      "\u001b[0;32m/home/qiuxing/mhcflurry/mhcflurry/class1_allele_specific/train.pyc\u001b[0m in \u001b[0;36mtrain_across_models_and_folds\u001b[0;34m(folds, model_descriptions, cartesian_product_of_folds_and_models, return_predictors, folds_per_task, parallel_backend)\u001b[0m\n\u001b[1;32m    308\u001b[0m     task_results = parallel_backend.map(\n\u001b[1;32m    309\u001b[0m         \u001b[0mtrain_and_test_one_model_task\u001b[0m\u001b[0;34m,\u001b[0m\u001b[0;34m\u001b[0m\u001b[0m\n\u001b[0;32m--> 310\u001b[0;31m         task_model_and_fold_indices)\n\u001b[0m\u001b[1;32m    311\u001b[0m \u001b[0;34m\u001b[0m\u001b[0m\n\u001b[1;32m    312\u001b[0m     \u001b[0mlogging\u001b[0m\u001b[0;34m.\u001b[0m\u001b[0minfo\u001b[0m\u001b[0;34m(\u001b[0m\u001b[0;34m\"Done.\"\u001b[0m\u001b[0;34m)\u001b[0m\u001b[0;34m\u001b[0m\u001b[0m\n",
      "\u001b[0;32m/home/qiuxing/mhcflurry/mhcflurry/parallelism.pyc\u001b[0m in \u001b[0;36mmap\u001b[0;34m(self, func, iterable)\u001b[0m\n\u001b[1;32m     24\u001b[0m             \u001b[0mself\u001b[0m\u001b[0;34m.\u001b[0m\u001b[0mexecutor\u001b[0m\u001b[0;34m.\u001b[0m\u001b[0msubmit\u001b[0m\u001b[0;34m(\u001b[0m\u001b[0mfunc\u001b[0m\u001b[0;34m,\u001b[0m \u001b[0marg\u001b[0m\u001b[0;34m)\u001b[0m \u001b[0;32mfor\u001b[0m \u001b[0marg\u001b[0m \u001b[0;32min\u001b[0m \u001b[0miterable\u001b[0m\u001b[0;34m\u001b[0m\u001b[0m\n\u001b[1;32m     25\u001b[0m         ]\n\u001b[0;32m---> 26\u001b[0;31m         \u001b[0;32mreturn\u001b[0m \u001b[0mself\u001b[0m\u001b[0;34m.\u001b[0m\u001b[0mwait\u001b[0m\u001b[0;34m(\u001b[0m\u001b[0mfs\u001b[0m\u001b[0;34m)\u001b[0m\u001b[0;34m\u001b[0m\u001b[0m\n\u001b[0m\u001b[1;32m     27\u001b[0m \u001b[0;34m\u001b[0m\u001b[0m\n\u001b[1;32m     28\u001b[0m     \u001b[0;32mdef\u001b[0m \u001b[0mwait\u001b[0m\u001b[0;34m(\u001b[0m\u001b[0mself\u001b[0m\u001b[0;34m,\u001b[0m \u001b[0mfs\u001b[0m\u001b[0;34m)\u001b[0m\u001b[0;34m:\u001b[0m\u001b[0;34m\u001b[0m\u001b[0m\n",
      "\u001b[0;32m/home/qiuxing/mhcflurry/mhcflurry/parallelism.pyc\u001b[0m in \u001b[0;36mwait\u001b[0;34m(self, fs)\u001b[0m\n\u001b[1;32m     29\u001b[0m         \u001b[0mresult_dict\u001b[0m \u001b[0;34m=\u001b[0m \u001b[0;34m{\u001b[0m\u001b[0;34m}\u001b[0m\u001b[0;34m\u001b[0m\u001b[0m\n\u001b[1;32m     30\u001b[0m         \u001b[0;32mfor\u001b[0m \u001b[0mfinished_future\u001b[0m \u001b[0;32min\u001b[0m \u001b[0mself\u001b[0m\u001b[0;34m.\u001b[0m\u001b[0mmodule\u001b[0m\u001b[0;34m.\u001b[0m\u001b[0mas_completed\u001b[0m\u001b[0;34m(\u001b[0m\u001b[0mfs\u001b[0m\u001b[0;34m)\u001b[0m\u001b[0;34m:\u001b[0m\u001b[0;34m\u001b[0m\u001b[0m\n\u001b[0;32m---> 31\u001b[0;31m             \u001b[0mresult\u001b[0m \u001b[0;34m=\u001b[0m \u001b[0mfinished_future\u001b[0m\u001b[0;34m.\u001b[0m\u001b[0mresult\u001b[0m\u001b[0;34m(\u001b[0m\u001b[0;34m)\u001b[0m\u001b[0;34m\u001b[0m\u001b[0m\n\u001b[0m\u001b[1;32m     32\u001b[0m             logging.info(\"%3d / %3d tasks completed\" % (\n\u001b[1;32m     33\u001b[0m                 len(result_dict), len(fs)))\n",
      "\u001b[0;32m/usr/local/lib/python2.7/dist-packages/concurrent/futures/_base.pyc\u001b[0m in \u001b[0;36mresult\u001b[0;34m(self, timeout)\u001b[0m\n\u001b[1;32m    396\u001b[0m                 \u001b[0;32mraise\u001b[0m \u001b[0mCancelledError\u001b[0m\u001b[0;34m(\u001b[0m\u001b[0;34m)\u001b[0m\u001b[0;34m\u001b[0m\u001b[0m\n\u001b[1;32m    397\u001b[0m             \u001b[0;32melif\u001b[0m \u001b[0mself\u001b[0m\u001b[0;34m.\u001b[0m\u001b[0m_state\u001b[0m \u001b[0;34m==\u001b[0m \u001b[0mFINISHED\u001b[0m\u001b[0;34m:\u001b[0m\u001b[0;34m\u001b[0m\u001b[0m\n\u001b[0;32m--> 398\u001b[0;31m                 \u001b[0;32mreturn\u001b[0m \u001b[0mself\u001b[0m\u001b[0;34m.\u001b[0m\u001b[0m__get_result\u001b[0m\u001b[0;34m(\u001b[0m\u001b[0;34m)\u001b[0m\u001b[0;34m\u001b[0m\u001b[0m\n\u001b[0m\u001b[1;32m    399\u001b[0m \u001b[0;34m\u001b[0m\u001b[0m\n\u001b[1;32m    400\u001b[0m             \u001b[0mself\u001b[0m\u001b[0;34m.\u001b[0m\u001b[0m_condition\u001b[0m\u001b[0;34m.\u001b[0m\u001b[0mwait\u001b[0m\u001b[0;34m(\u001b[0m\u001b[0mtimeout\u001b[0m\u001b[0;34m)\u001b[0m\u001b[0;34m\u001b[0m\u001b[0m\n",
      "\u001b[0;32m/usr/local/lib/python2.7/dist-packages/concurrent/futures/thread.pyc\u001b[0m in \u001b[0;36mrun\u001b[0;34m(self)\u001b[0m\n\u001b[1;32m     53\u001b[0m \u001b[0;34m\u001b[0m\u001b[0m\n\u001b[1;32m     54\u001b[0m         \u001b[0;32mtry\u001b[0m\u001b[0;34m:\u001b[0m\u001b[0;34m\u001b[0m\u001b[0m\n\u001b[0;32m---> 55\u001b[0;31m             \u001b[0mresult\u001b[0m \u001b[0;34m=\u001b[0m \u001b[0mself\u001b[0m\u001b[0;34m.\u001b[0m\u001b[0mfn\u001b[0m\u001b[0;34m(\u001b[0m\u001b[0;34m*\u001b[0m\u001b[0mself\u001b[0m\u001b[0;34m.\u001b[0m\u001b[0margs\u001b[0m\u001b[0;34m,\u001b[0m \u001b[0;34m**\u001b[0m\u001b[0mself\u001b[0m\u001b[0;34m.\u001b[0m\u001b[0mkwargs\u001b[0m\u001b[0;34m)\u001b[0m\u001b[0;34m\u001b[0m\u001b[0m\n\u001b[0m\u001b[1;32m     56\u001b[0m         \u001b[0;32mexcept\u001b[0m \u001b[0mBaseException\u001b[0m\u001b[0;34m:\u001b[0m\u001b[0;34m\u001b[0m\u001b[0m\n\u001b[1;32m     57\u001b[0m             \u001b[0me\u001b[0m\u001b[0;34m,\u001b[0m \u001b[0mtb\u001b[0m \u001b[0;34m=\u001b[0m \u001b[0msys\u001b[0m\u001b[0;34m.\u001b[0m\u001b[0mexc_info\u001b[0m\u001b[0;34m(\u001b[0m\u001b[0;34m)\u001b[0m\u001b[0;34m[\u001b[0m\u001b[0;36m1\u001b[0m\u001b[0;34m:\u001b[0m\u001b[0;34m]\u001b[0m\u001b[0;34m\u001b[0m\u001b[0m\n",
      "\u001b[0;32m/home/qiuxing/mhcflurry/mhcflurry/class1_allele_specific/train.pyc\u001b[0m in \u001b[0;36mtrain_and_test_one_model_task\u001b[0;34m(model_and_fold_nums_pair)\u001b[0m\n\u001b[1;32m    304\u001b[0m             \u001b[0mmodel_descriptions\u001b[0m\u001b[0;34m[\u001b[0m\u001b[0mmodel_num\u001b[0m\u001b[0;34m]\u001b[0m\u001b[0;34m,\u001b[0m\u001b[0;34m\u001b[0m\u001b[0m\n\u001b[1;32m    305\u001b[0m             \u001b[0;34m[\u001b[0m\u001b[0mfolds\u001b[0m\u001b[0;34m[\u001b[0m\u001b[0mi\u001b[0m\u001b[0;34m]\u001b[0m \u001b[0;32mfor\u001b[0m \u001b[0mi\u001b[0m \u001b[0;32min\u001b[0m \u001b[0mfold_nums\u001b[0m\u001b[0;34m]\u001b[0m\u001b[0;34m,\u001b[0m\u001b[0;34m\u001b[0m\u001b[0m\n\u001b[0;32m--> 306\u001b[0;31m             return_predictor=return_predictors)\n\u001b[0m\u001b[1;32m    307\u001b[0m \u001b[0;34m\u001b[0m\u001b[0m\n\u001b[1;32m    308\u001b[0m     task_results = parallel_backend.map(\n",
      "\u001b[0;32m/home/qiuxing/mhcflurry/mhcflurry/class1_allele_specific/train.pyc\u001b[0m in \u001b[0;36mtrain_and_test_one_model\u001b[0;34m(model_description, folds, **kwargs)\u001b[0m\n\u001b[1;32m    104\u001b[0m             \u001b[0mfold\u001b[0m\u001b[0;34m.\u001b[0m\u001b[0mimputed_train\u001b[0m\u001b[0;34m,\u001b[0m\u001b[0;34m\u001b[0m\u001b[0m\n\u001b[1;32m    105\u001b[0m             **kwargs)\n\u001b[0;32m--> 106\u001b[0;31m         \u001b[0;32mfor\u001b[0m \u001b[0mfold\u001b[0m \u001b[0;32min\u001b[0m \u001b[0mfolds\u001b[0m\u001b[0;34m\u001b[0m\u001b[0m\n\u001b[0m\u001b[1;32m    107\u001b[0m     ]\n\u001b[1;32m    108\u001b[0m \u001b[0;34m\u001b[0m\u001b[0m\n",
      "\u001b[0;32m/home/qiuxing/mhcflurry/mhcflurry/class1_allele_specific/train.pyc\u001b[0m in \u001b[0;36mtrain_and_test_one_model_one_fold\u001b[0;34m(model_description, train_dataset, test_dataset, imputed_train_dataset, return_train_scores, return_predictor, return_train_predictions, return_test_predictions)\u001b[0m\n\u001b[1;32m    189\u001b[0m     predictor = mhcflurry.Class1BindingPredictor(\n\u001b[1;32m    190\u001b[0m         \u001b[0mmax_ic50\u001b[0m\u001b[0;34m=\u001b[0m\u001b[0mmax_ic50\u001b[0m\u001b[0;34m,\u001b[0m\u001b[0;34m\u001b[0m\u001b[0m\n\u001b[0;32m--> 191\u001b[0;31m         **model_params)\n\u001b[0m\u001b[1;32m    192\u001b[0m \u001b[0;34m\u001b[0m\u001b[0m\n\u001b[1;32m    193\u001b[0m     \u001b[0;31m# Train predictor\u001b[0m\u001b[0;34m\u001b[0m\u001b[0;34m\u001b[0m\u001b[0m\n",
      "\u001b[0;32m/home/qiuxing/mhcflurry/mhcflurry/class1_allele_specific/class1_binding_predictor.pyc\u001b[0m in \u001b[0;36m__init__\u001b[0;34m(self, model, name, max_ic50, allow_unknown_amino_acids, kmer_size, n_amino_acids, verbose, **hyperparameters)\u001b[0m\n\u001b[1;32m    101\u001b[0m                 \u001b[0mn_amino_acids\u001b[0m\u001b[0;34m=\u001b[0m\u001b[0mn_amino_acids\u001b[0m \u001b[0;34m+\u001b[0m \u001b[0mint\u001b[0m\u001b[0;34m(\u001b[0m\u001b[0mallow_unknown_amino_acids\u001b[0m\u001b[0;34m)\u001b[0m\u001b[0;34m,\u001b[0m\u001b[0;34m\u001b[0m\u001b[0m\n\u001b[1;32m    102\u001b[0m                 **self.network_hyperparameter_defaults.subselect(\n\u001b[0;32m--> 103\u001b[0;31m                     effective_hyperparameters))\n\u001b[0m\u001b[1;32m    104\u001b[0m         \u001b[0;32melif\u001b[0m \u001b[0mspecified_network_hyperparameters\u001b[0m\u001b[0;34m:\u001b[0m\u001b[0;34m\u001b[0m\u001b[0m\n\u001b[1;32m    105\u001b[0m             raise ValueError(\n",
      "\u001b[0;32m/home/qiuxing/mhcflurry/mhcflurry/feedforward.pyc\u001b[0m in \u001b[0;36mmake_embedding_network\u001b[0;34m(peptide_length, n_amino_acids, embedding_output_dim, **kwargs)\u001b[0m\n\u001b[1;32m    138\u001b[0m         \u001b[0membedding_input_dim\u001b[0m\u001b[0;34m=\u001b[0m\u001b[0mn_amino_acids\u001b[0m\u001b[0;34m,\u001b[0m\u001b[0;34m\u001b[0m\u001b[0m\n\u001b[1;32m    139\u001b[0m         \u001b[0membedding_output_dim\u001b[0m\u001b[0;34m=\u001b[0m\u001b[0membedding_output_dim\u001b[0m\u001b[0;34m,\u001b[0m\u001b[0;34m\u001b[0m\u001b[0m\n\u001b[0;32m--> 140\u001b[0;31m         **kwargs)\n\u001b[0m",
      "\u001b[0;32m/home/qiuxing/mhcflurry/mhcflurry/feedforward.pyc\u001b[0m in \u001b[0;36mmake_network\u001b[0;34m(input_size, embedding_input_dim, embedding_output_dim, layer_sizes, activation, init, output_activation, dropout_probability, batch_normalization, initial_embedding_weights, embedding_init_method, model, optimizer, loss)\u001b[0m\n\u001b[1;32m     79\u001b[0m         \u001b[0minput_size\u001b[0m \u001b[0;34m=\u001b[0m \u001b[0minput_size\u001b[0m \u001b[0;34m*\u001b[0m \u001b[0membedding_output_dim\u001b[0m\u001b[0;34m\u001b[0m\u001b[0m\n\u001b[1;32m     80\u001b[0m \u001b[0;34m\u001b[0m\u001b[0m\n\u001b[0;32m---> 81\u001b[0;31m     \u001b[0mlayer_sizes\u001b[0m \u001b[0;34m=\u001b[0m \u001b[0;34m(\u001b[0m\u001b[0minput_size\u001b[0m\u001b[0;34m,\u001b[0m\u001b[0;34m)\u001b[0m \u001b[0;34m+\u001b[0m \u001b[0mtuple\u001b[0m\u001b[0;34m(\u001b[0m\u001b[0mlayer_sizes\u001b[0m\u001b[0;34m)\u001b[0m\u001b[0;34m\u001b[0m\u001b[0m\n\u001b[0m\u001b[1;32m     82\u001b[0m \u001b[0;34m\u001b[0m\u001b[0m\n\u001b[1;32m     83\u001b[0m     \u001b[0;32mfor\u001b[0m \u001b[0mi\u001b[0m\u001b[0;34m,\u001b[0m \u001b[0mdim\u001b[0m \u001b[0;32min\u001b[0m \u001b[0menumerate\u001b[0m\u001b[0;34m(\u001b[0m\u001b[0mlayer_sizes\u001b[0m\u001b[0;34m)\u001b[0m\u001b[0;34m:\u001b[0m\u001b[0;34m\u001b[0m\u001b[0m\n",
      "\u001b[0;31mTypeError\u001b[0m: 'int' object is not iterable"
     ]
    }
   ],
   "source": [
    "df = mhcflurry.class1_allele_specific.train.train_across_models_and_folds(fold1, models, return_predictors=True)"
   ]
  },
  {
   "cell_type": "code",
   "execution_count": null,
   "metadata": {
    "collapsed": false
   },
   "outputs": [],
   "source": []
  },
  {
   "cell_type": "markdown",
   "metadata": {},
   "source": [
    "# Imputation Test"
   ]
  },
  {
   "cell_type": "code",
   "execution_count": null,
   "metadata": {
    "collapsed": false
   },
   "outputs": [
    {
     "name": "stdout",
     "output_type": "stream",
     "text": [
      "[MICE] Completing matrix with shape (31539, 106)\n",
      "[MICE] Starting imputation round 1/35, elapsed time 3.706\n",
      "[MICE] Starting imputation round 2/35, elapsed time 22.248\n",
      "[MICE] Starting imputation round 3/35, elapsed time 34.405\n",
      "[MICE] Starting imputation round 4/35, elapsed time 46.069\n",
      "[MICE] Starting imputation round 5/35, elapsed time 57.038\n",
      "[MICE] Starting imputation round 6/35, elapsed time 66.790\n",
      "[MICE] Starting imputation round 7/35, elapsed time 78.032\n",
      "[MICE] Starting imputation round 8/35, elapsed time 88.780\n",
      "[MICE] Starting imputation round 9/35, elapsed time 99.075\n",
      "[MICE] Starting imputation round 10/35, elapsed time 109.121\n",
      "[MICE] Starting imputation round 11/35, elapsed time 120.484\n",
      "[MICE] Starting imputation round 12/35, elapsed time 133.577\n",
      "[MICE] Starting imputation round 13/35, elapsed time 147.796\n",
      "[MICE] Starting imputation round 14/35, elapsed time 159.606\n",
      "[MICE] Starting imputation round 15/35, elapsed time 172.604\n",
      "[MICE] Starting imputation round 16/35, elapsed time 184.133\n",
      "[MICE] Starting imputation round 17/35, elapsed time 197.497\n",
      "[MICE] Starting imputation round 18/35, elapsed time 210.719\n",
      "[MICE] Starting imputation round 19/35, elapsed time 222.884\n",
      "[MICE] Starting imputation round 20/35, elapsed time 236.010\n",
      "[MICE] Starting imputation round 21/35, elapsed time 249.187\n",
      "[MICE] Starting imputation round 22/35, elapsed time 263.525\n",
      "[MICE] Starting imputation round 23/35, elapsed time 276.087\n",
      "[MICE] Starting imputation round 24/35, elapsed time 288.423\n",
      "[MICE] Starting imputation round 25/35, elapsed time 300.321\n",
      "[MICE] Starting imputation round 26/35, elapsed time 311.256\n",
      "[MICE] Starting imputation round 27/35, elapsed time 322.029\n"
     ]
    }
   ],
   "source": [
    "from fancyimpute import MICE\n",
    "kim2014_train = mhcflurry.dataset.Dataset.from_csv(mhcflurry.downloads.get_path(\"data_kim2014\", \"bdata.2009.mhci.public.1.txt\"))\n",
    "impute_set = kim2014_train.impute_missing_values(MICE(n_imputations=25))\n",
    "A0203_impute = impute_set.get_allele(\"HLA-A0203\")\n",
    "A0203_trainingset = kim2014_train.get_allele(\"HLA-A0203\")\n",
    "print(\"Before Impute: %d; After Impute: %d\" % (len(A0203_trainingset),len(A0203_impute)))"
   ]
  },
  {
   "cell_type": "code",
   "execution_count": null,
   "metadata": {
    "collapsed": true
   },
   "outputs": [],
   "source": []
  }
 ],
 "metadata": {
  "kernelspec": {
   "display_name": "Python 2",
   "language": "python",
   "name": "python2"
  },
  "language_info": {
   "codemirror_mode": {
    "name": "ipython",
    "version": 2
   },
   "file_extension": ".py",
   "mimetype": "text/x-python",
   "name": "python",
   "nbconvert_exporter": "python",
   "pygments_lexer": "ipython2",
   "version": "2.7.12"
  }
 },
 "nbformat": 4,
 "nbformat_minor": 1
}
